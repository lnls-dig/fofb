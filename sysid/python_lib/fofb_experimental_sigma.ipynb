{
 "cells": [
  {
   "cell_type": "markdown",
   "id": "3cd99cd8",
   "metadata": {},
   "source": [
    "# Common functionality"
   ]
  },
  {
   "cell_type": "code",
   "execution_count": null,
   "id": "d6a530b1",
   "metadata": {
    "ExecuteTime": {
     "end_time": "2023-09-19T15:53:25.435740Z",
     "start_time": "2023-09-19T15:53:24.026208Z"
    },
    "init_cell": true,
    "tags": []
   },
   "outputs": [],
   "source": [
    "from time import sleep\n",
    "import apsuite.commisslib.meas_fofb_sysid as fofbsysid\n",
    "print(fofbsysid.__file__)\n",
    "from multiprocessing import Pool, set_start_method\n",
    "from resource import getrusage, RUSAGE_SELF\n",
    "\n",
    "from enum import Enum\n",
    "import h5py\n",
    "from matplotlib import pyplot as plt\n",
    "from matplotlib.colors import LogNorm\n",
    "import matplotlib.ticker as ticker\n",
    "import matplotlib\n",
    "import numpy as np\n",
    "from os import listdir, path\n",
    "import pickle\n",
    "from scipy import signal, io\n",
    "\n",
    "from apsuite.commisslib.meas_fofb_sysid import FOFBSysIdAcq\n",
    "from siriuspy.devices import EVG, InjCtrl, SOFB, Trigger\n",
    "%matplotlib widget\n",
    "%matplotlib inline"
   ]
  },
  {
   "cell_type": "code",
   "execution_count": null,
   "id": "7802d116",
   "metadata": {
    "ExecuteTime": {
     "end_time": "2023-09-19T11:30:53.194129Z",
     "start_time": "2023-09-19T11:30:53.191301Z"
    },
    "scrolled": true,
    "tags": []
   },
   "outputs": [],
   "source": [
    "## fpath = '/ibira/lnls/labs/swc/MachineStudies/15-7-2024-biggerlimit/current/' ## '/ibira/lnls/labs/swc/MachineStudies/22-07-2024/current/'\n",
    "## prbs_type = 'Correctors'\n",
    "\n",
    "fpath = '/ibira/lnls/labs/swc/MachineStudies/15-7-2024-biggerlimit/bpm-lfsr9-sd4-teste/'\n",
    "prbs_type = 'BPMs'"
   ]
  },
  {
   "cell_type": "code",
   "execution_count": null,
   "id": "ba515e5a",
   "metadata": {
    "scrolled": true,
    "tags": []
   },
   "outputs": [],
   "source": [
    "acq = FOFBSysIdAcq()"
   ]
  },
  {
   "cell_type": "markdown",
   "id": "3b6b3659",
   "metadata": {},
   "source": [
    "# Data analysis"
   ]
  },
  {
   "cell_type": "code",
   "execution_count": null,
   "id": "008c1d33",
   "metadata": {
    "scrolled": true,
    "tags": []
   },
   "outputs": [],
   "source": [
    "def init_acq_from_data(acq, data):\n",
    "    # parameters to generate singular mode levels\n",
    "    params = data['params']\n",
    "    acq.params.svd_levels_regularize_matrix = True\n",
    "    acq.params.svd_levels_reg_sinval_min = data['params']['svd_levels_reg_sinval_min']\n",
    "    acq.params.svd_levels_reg_tikhonov_const = data['params']['svd_levels_reg_tikhonov_const']\n",
    "    acq.params.svd_levels_bpmsx_enbllist = data['params']['svd_levels_bpmsx_enbllist']\n",
    "    acq.params.svd_levels_bpmsy_enbllist = data['params']['svd_levels_bpmsy_enbllist']\n",
    "    acq.params.svd_levels_ch_enbllist = data['params']['svd_levels_ch_enbllist']\n",
    "    acq.params.svd_levels_cv_enbllist = data['params']['svd_levels_cv_enbllist']\n",
    "    acq.params.svd_levels_rf_enbllist = data['params']['svd_levels_rf_enbllist']\n",
    "    acq.params.svd_levels_respmat = data['params']['svd_levels_respmat']\n",
    "\n",
    "    acq.params.svd_levels_singmode_idx = data['params']['svd_levels_singmode_idx']"
   ]
  },
  {
   "cell_type": "code",
   "execution_count": null,
   "id": "5aeae267",
   "metadata": {
    "tags": []
   },
   "outputs": [],
   "source": [
    "def get_mode_ffts(file, prbs_type):\n",
    "\n",
    "    if prbs_type not in ['BPMs', 'Correctors']:\n",
    "        print(f'Invalid prbs_type value. Valid values are: \\'BPMs\\', \\'Correctors\\'')\n",
    "        return\n",
    "\n",
    "    acq = FOFBSysIdAcq()\n",
    "    \n",
    "    print(f'reading {file}...')\n",
    "    ## with open(f'{file}', 'rb') as f:\n",
    "        ## data = pickle.load(f)\n",
    "    data = acq.load_data(file)\n",
    "\n",
    "    init_acq_from_data(acq, data)\n",
    "\n",
    "    if prbs_type == 'BPMs':\n",
    "        u_n = np.hstack([data['params']['prbs_bpmposx_lvl0'][acq.params.svd_levels_bpmsx_enbllist], \\\n",
    "                         data['params']['prbs_bpmposy_lvl0'][acq.params.svd_levels_bpmsy_enbllist]])\n",
    "        # u_n = np.hstack([data['data']['prbs_bpmposx_lvl0_beam_order'][0][acq.params.svd_levels_bpmsx_enbllist], \\\n",
    "        #                 data['data']['prbs_bpmposy_lvl0_beam_order'][0][acq.params.svd_levels_bpmsy_enbllist]])\n",
    "        u_n = u_n/2.0\n",
    "    elif prbs_type == 'Correctors':\n",
    "        u_n = data['params']['prbs_fofbacc_lvl0'][np.hstack([acq.params.svd_levels_ch_enbllist, \\\n",
    "                                                             acq.params.svd_levels_cv_enbllist])]\n",
    "        val = 0.02\n",
    "        if 'C3' in path.split(file)[-1]:\n",
    "            val /= 2\n",
    "        u_n *= val/(u_n[u_n != 0][0])\n",
    "        ## psconfig_mat = data['data']['psconfig_mat']\n",
    "        ## psconfig_mat = np.reshape(psconfig_mat, (160, -1))\n",
    "        ## file = file.replace('\\uf022', ':')\n",
    "        ## corrname = path.basename(file).removesuffix('.h5')\n",
    "        ## corridx = acq.devices['famsysid'].psnames.index(corrname)\n",
    "        ## filt_gain = psconfig_mat[corridx, 2]\n",
    "        ## u_n /= filt_gain\n",
    "\n",
    "    u_n = np.array([u_n], dtype=float)\n",
    "\n",
    "    lfsr = data['data']['prbs_lfsr_len'][0]\n",
    "    sd = data['data']['prbs_step_duration'][0]\n",
    "    p = (2**lfsr - 1) * sd\n",
    " \n",
    "    # Transient in PRBS periods\n",
    "    n_p_transient = 4\n",
    "\n",
    "    prbs = np.array(data['data']['prbs_data'][0], dtype=float)\n",
    "    prbs = prbs[data['params']['acq_nrpoints_before']:]\n",
    "    prbs = prbs[n_p_transient*p:]\n",
    "    prbs[prbs == 0] = -1\n",
    "\n",
    "    # Mimic gateware's PRBS moving average\n",
    "    if prbs_type == 'Correctors':\n",
    "        N = 2 # TODO: get it from data['params']\n",
    "\n",
    "        a = np.zeros(N)\n",
    "        a[0] = 1\n",
    "        b = (1/N)*np.ones(N)\n",
    "        prbs = signal.lfilter(b, a, prbs)\n",
    "\n",
    "    prbsu = np.array([prbs]).T @ u_n\n",
    "    prbsu -= np.mean(prbsu, axis=0)[None, :]\n",
    "\n",
    "    orb = np.array(np.hstack([data['data']['orbx'], data['data']['orby']]), dtype=float)\n",
    "\n",
    "    not_excited_orb = orb[:data['params']['acq_nrpoints_before']]\n",
    "    ref_orb = np.mean(not_excited_orb, axis=0)[None, :]\n",
    "\n",
    "    excited_orb = orb[data['params']['acq_nrpoints_before']:]\n",
    "    excited_orb = excited_orb[n_p_transient*p:]\n",
    "    #excited_orb -= np.mean(excited_orb, axis=0)[None, :]\n",
    "    excited_orb -= ref_orb\n",
    "\n",
    "    # SNR computation\n",
    "    # noise_orb = not_excited_orb - ref_orb\n",
    "    # noise_orb_rms = np.sqrt(np.mean(noise_orb**2, axis=0)[None, :])\n",
    "\n",
    "    # excited_orb_rms = np.sqrt(np.mean(excited_orb**2, axis=0)[None, :])\n",
    "\n",
    "    # snr = 20*np.log10(np.divide(excited_orb_rms, noise_orb_rms)[0])\n",
    "\n",
    "    # Switching noise removal\n",
    "    # for N in [2]: ##[2, 4]:\n",
    "    #     a = np.zeros(N)\n",
    "    #     a[0] = 1\n",
    "    #     b = (1/N)*np.ones(N)\n",
    "\n",
    "    #     prbsu = signal.filtfilt(b, a, prbsu)\n",
    "    #     excited_orb = signal.filtfilt(b, a, excited_orb)\n",
    "\n",
    "    # Orbit averaging\n",
    "    excited_orb = excited_orb.reshape((excited_orb.shape[0] // p, p, excited_orb.shape[1]))\n",
    "    excited_orb = np.average(excited_orb, axis=0)\n",
    "    prbsu = prbsu[:p]\n",
    "\n",
    "    fs = data['data']['sampling_frequency']\n",
    "    freqs = np.fft.rfftfreq(prbsu.shape[0], d=1/fs)\n",
    "\n",
    "    orb_fft = np.fft.rfft(excited_orb, axis=0)\n",
    "    prbsu_fft = np.fft.rfft(prbsu, axis=0)\n",
    "\n",
    "    # FFT binning\n",
    "    n = excited_orb.shape[0]\n",
    "    step = n // p\n",
    "\n",
    "    freqs_b = freqs[step::step]\n",
    "    prbsu_fft_b = prbsu_fft[step::step]\n",
    "    orb_fft_b = orb_fft[step::step]\n",
    "\n",
    "    # PRBS notches removal\n",
    "    notches = np.arange(p // sd - 1, freqs_b.shape[0], p // sd)\n",
    "\n",
    "    freqs_b = np.delete(freqs_b, notches)\n",
    "    prbsu_fft_b = np.delete(prbsu_fft_b, notches, axis=0)\n",
    "    orb_fft_b = np.delete(orb_fft_b, notches, axis=0)\n",
    "\n",
    "    return freqs_b, prbsu_fft_b, orb_fft_b"
   ]
  },
  {
   "cell_type": "raw",
   "id": "4efc9599-d865-4ea4-8554-ff703156003d",
   "metadata": {},
   "source": [
    "## TODO: get moving average number of taps from data['params']\n",
    "fn = '/ibira/lnls/labs/swc/MachineStudies/22-07-2024/bpm-lfsr9-sd9-siso-h/0.h5'\n",
    "data = acq.load_data(fn)\n",
    "data"
   ]
  },
  {
   "cell_type": "markdown",
   "id": "e9e6a52b-8037-4846-9c26-0509d9ff3184",
   "metadata": {},
   "source": [
    "### Build PRBS and orbit FFT 'cubes'"
   ]
  },
  {
   "cell_type": "code",
   "execution_count": null,
   "id": "249e559a-1892-4b02-95ff-1eb53b08a51a",
   "metadata": {},
   "outputs": [],
   "source": [
    "## acqs_fn = listdir(fpath)\n",
    "acqs_fn = acq.devices['famsysid'].psnames\n",
    "out_corrs = ['SI-01M2:PS-FCH', 'SI-01M1:PS-FCH', 'SI-01M2:PS-FCV', 'SI-01M1:PS-FCV']\n",
    "\n",
    "for corr in out_corrs:\n",
    "    acqs_fn.remove(corr)\n",
    "print(len(acqs_fn))\n",
    "\n",
    "for i in range(len(acqs_fn)):\n",
    "    acqs_fn[i] = str(acqs_fn[i])\n",
    "    ##if '07C2' in acqs_fn[i]:\n",
    "    ##    acqs_fn[i] = acqs_fn[i].replace('07', '06')\n",
    "    acqs_fn[i] = acqs_fn[i].replace(':', '\\uf022') + '.h5'\n",
    "\n",
    "acqs_fn"
   ]
  },
  {
   "cell_type": "code",
   "execution_count": null,
   "id": "6dc52372-cb4f-4a3b-b118-cd6c6e64881e",
   "metadata": {
    "tags": []
   },
   "outputs": [],
   "source": [
    "n_modes = 156\n",
    "\n",
    "if prbs_type == 'BPMs':\n",
    "    args = [(fpath + f'{i}.h5', prbs_type) for i in range(n_modes)]\n",
    "elif prbs_type == 'Correctors':\n",
    "    args = [(fpath + f'{acqs_fn[i]}', prbs_type) for i in range(n_modes)]\n",
    "\n",
    "%time mode_ffts = Pool(processes=16).starmap(get_mode_ffts, args)"
   ]
  },
  {
   "cell_type": "code",
   "execution_count": null,
   "id": "78672ac6-93a0-49c6-8abf-0cd68d6a87fb",
   "metadata": {
    "scrolled": true
   },
   "outputs": [],
   "source": [
    "bpmenbl = acq.devices['fofb'].bpmxenbl\n",
    "bpmnames = np.array(acq.devices['famsysid'].bpmnames)[bpmenbl]\n",
    "print(bpmnames)"
   ]
  },
  {
   "cell_type": "code",
   "execution_count": null,
   "id": "12da8907-5899-420d-af37-11cfdc21d92f",
   "metadata": {},
   "outputs": [],
   "source": [
    "prbsu_fft_cube = []\n",
    "orb_fft_cube = []\n",
    "\n",
    "for mode, (freqs, prbsu_fft, orb_fft) in enumerate(mode_ffts[:n_modes]):\n",
    "    prbsu_fft_cube.append(prbsu_fft.T)\n",
    "    orb_fft_cube.append(orb_fft.T)\n",
    "\n",
    "prbsu_fft_cube = np.array(prbsu_fft_cube, dtype=complex)\n",
    "orb_fft_cube = np.array(orb_fft_cube, dtype=complex)\n",
    "\n",
    "print(prbsu_fft_cube.shape)\n",
    "print(orb_fft_cube.shape)"
   ]
  },
  {
   "cell_type": "raw",
   "id": "8b93c123-3ed3-4d14-98fd-8f98cc8dd307",
   "metadata": {},
   "source": [
    "io.savemat('cubes.mat', {'freqs': freqs, 'prbsu_fft_cube': prbsu_fft_cube, 'orb_fft_cube': orb_fft_cube})"
   ]
  },
  {
   "cell_type": "markdown",
   "id": "ea9eab59-e4e7-45ed-bb47-d68efd860de5",
   "metadata": {},
   "source": [
    "### Compute Response Matrices and Experimental Sigma"
   ]
  },
  {
   "cell_type": "code",
   "execution_count": null,
   "id": "82471ae8-9963-414b-865d-de3021c9c08d",
   "metadata": {
    "scrolled": true
   },
   "outputs": [],
   "source": [
    "resp_mat_f = []\n",
    "exp_sigma_f = []\n",
    "\n",
    "for f in range(freqs.shape[0]):\n",
    "    resp_mat_f.append(orb_fft_cube[:, :, f].T @ np.linalg.pinv(prbsu_fft_cube[:, :, f]).T)\n",
    "    _, sigma, _ = np.linalg.svd(resp_mat_f[f], full_matrices=False)\n",
    "    exp_sigma_f.append(sigma)\n",
    "\n",
    "resp_mat_f = np.array(resp_mat_f, dtype=complex)\n",
    "exp_sigma_f = np.array(exp_sigma_f)\n",
    "\n",
    "print(resp_mat_f.shape)\n",
    "print(exp_sigma_f.shape)"
   ]
  },
  {
   "cell_type": "markdown",
   "id": "aac405e2-90a3-43d3-9f98-acf7fcb679bb",
   "metadata": {},
   "source": [
    "### Plot Response Matrices"
   ]
  },
  {
   "cell_type": "code",
   "execution_count": null,
   "id": "487ffa61-d0a9-43e8-a2bb-2241cb92229a",
   "metadata": {},
   "outputs": [],
   "source": [
    "if prbs_type == 'Correctors':\n",
    "    fig, axs = plt.subplots(2, 2, figsize=(10, 10), sharey='row')\n",
    "    \n",
    "    # respmat = acq.devices['fofb'].respmathw_mon[:, :-1].T\n",
    "    # respmat /= 6.25e-5\n",
    "    \n",
    "    respmat_fn = '/ibira/lnls/labs/gie/MachineStudies/FOFBSysId/MATLAB_objs/respmat-no-rf-line-24-05-20.mat'\n",
    "    respmat = io.loadmat(respmat_fn)['mat_d'].T\n",
    "    \n",
    "    bpmenbllist = np.hstack([acq.devices['fofb'].bpmxenbl, acq.devices['fofb'].bpmyenbl])\n",
    "    correnbllist = np.hstack([acq.devices['fofb'].chenbl, acq.devices['fofb'].cvenbl])\n",
    "    \n",
    "    respmat = respmat[bpmenbllist]\n",
    "    respmat = respmat[:, correnbllist]\n",
    "    \n",
    "    f = 0\n",
    "    print(respmat.shape, resp_mat_f[f].shape)\n",
    "    \n",
    "    axs[0, 0].imshow(np.abs(respmat))\n",
    "    axs[0, 1].imshow(np.abs(resp_mat_f[f]))\n",
    "    axs[1, 0].imshow(np.abs(respmat @ np.linalg.pinv(respmat)))\n",
    "    axs[1, 1].imshow(np.abs(resp_mat_f[f] @ np.linalg.pinv(respmat)))\n",
    "    axs[0, 0].set_xlabel(f'respmat')\n",
    "    axs[0, 1].set_xlabel(f'resp_mat_f[{freqs[f]:.2f} Hz]')\n",
    "    axs[1, 0].set_xlabel(f'respmat @ np.linalg.pinv(respmat)')\n",
    "    axs[1, 1].set_xlabel(f'resp_mat_f[{freqs[f]:.2f} Hz] @ np.linalg.pinv(respmat)')\n",
    "    plt.show()"
   ]
  },
  {
   "cell_type": "raw",
   "id": "dd9917bf-f31f-4479-a7c6-810c9d64fbbb",
   "metadata": {},
   "source": [
    "n_cols = 10\n",
    "n_rows = int(np.ceil(resp_mat_f.shape[0]/n_cols))\n",
    "fig, axs = plt.subplots(n_rows, n_cols, figsize=(14, 36), sharey='row')\n",
    "\n",
    "for f in range(freqs.shape[0]):\n",
    "    row, col = f//n_cols, f%n_cols\n",
    "    axs[row, col].imshow(np.abs(resp_mat_f[f]))\n",
    "    axs[row, col].set_xlabel(f'{freqs[f]:.2} Hz')\n",
    "\n",
    "n_exceed_axs = n_rows*n_cols - freqs.shape[0]\n",
    "for i in range(n_exceed_axs):\n",
    "    fig.delaxes(axs[-1, n_cols - 1 - i])\n",
    "\n",
    "#fig.tight_layout()\n",
    "## plt.savefig('resp_mat_f.jpg')"
   ]
  },
  {
   "cell_type": "raw",
   "id": "af438a10-a8ba-4f75-9996-f555125f0d55",
   "metadata": {},
   "source": [
    "io.savemat(f'resp_mat_f.mat', {'freqs': freqs, 'resp_mat_f': resp_mat_f})"
   ]
  },
  {
   "cell_type": "markdown",
   "id": "3f104c04-b522-4a11-9540-954f90909193",
   "metadata": {},
   "source": [
    "### Plot Experimental Sigma"
   ]
  },
  {
   "cell_type": "code",
   "execution_count": null,
   "id": "a9db6599-7a38-42f8-a4c8-a98d385effb0",
   "metadata": {
    "scrolled": true
   },
   "outputs": [],
   "source": [
    "fig, ax = plt.subplots(1, figsize=(13, 8))\n",
    "\n",
    "if prbs_type == 'BPMs':\n",
    "    last_bad_modes = 4\n",
    "elif prbs_type == 'Correctors':\n",
    "    last_bad_modes = 0\n",
    "\n",
    "for i in range(exp_sigma_f.shape[1] - last_bad_modes):\n",
    "    interest = freqs > 0 #np.logical_and(freqs > 0, freqs < 1e4)\n",
    "    ax.semilogx(freqs[interest], 20*np.log10(exp_sigma_f[interest, i]))\n",
    "\n",
    "ax.set_title('Singular Values')\n",
    "ax.set_ylabel('Singular Values (dB)')\n",
    "ax.set_xlabel('Frequency (Hz)')\n",
    "ax.grid(which='both')\n",
    "\n",
    "#fig.tight_layout()\n",
    "## plt.savefig('exp_sigma.jpg')"
   ]
  },
  {
   "cell_type": "raw",
   "id": "babbb08d-3218-4309-b453-708c7c4a7806",
   "metadata": {},
   "source": [
    "io.savemat('exp_sigma_f.mat', {'freqs': freqs, 'exp_sigma_f': exp_sigma_f})"
   ]
  }
 ],
 "metadata": {
  "hide_input": false,
  "kernelspec": {
   "display_name": "Python 3 (ipykernel)",
   "language": "python",
   "name": "python3"
  },
  "language_info": {
   "codemirror_mode": {
    "name": "ipython",
    "version": 3
   },
   "file_extension": ".py",
   "mimetype": "text/x-python",
   "name": "python",
   "nbconvert_exporter": "python",
   "pygments_lexer": "ipython3",
   "version": "3.9.15"
  },
  "latex_envs": {
   "LaTeX_envs_menu_present": true,
   "autoclose": false,
   "autocomplete": true,
   "bibliofile": "biblio.bib",
   "cite_by": "apalike",
   "current_citInitial": 1,
   "eqLabelWithNumbers": true,
   "eqNumInitial": 1,
   "hotkeys": {
    "equation": "Ctrl-E",
    "itemize": "Ctrl-I"
   },
   "labels_anchors": false,
   "latex_user_defs": false,
   "report_style_numbering": false,
   "user_envs_cfg": false
  }
 },
 "nbformat": 4,
 "nbformat_minor": 5
}
