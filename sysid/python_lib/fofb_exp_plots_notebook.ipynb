{
 "cells": [
  {
   "cell_type": "code",
   "execution_count": null,
   "id": "0019892f-9b80-4430-b324-8582c8497499",
   "metadata": {
    "tags": []
   },
   "outputs": [],
   "source": [
    "%matplotlib widget\n",
    "import fofb_exp_plots\n",
    "from fofb_exp_plots import FOFBPlots"
   ]
  },
  {
   "cell_type": "code",
   "execution_count": null,
   "id": "f8aeaacb-bb42-4f96-bd8f-b9dc9eb9c107",
   "metadata": {
    "tags": []
   },
   "outputs": [],
   "source": [
    "p = FOFBPlots()"
   ]
  },
  {
   "cell_type": "markdown",
   "id": "89c736e2-9a08-492a-9d6f-7a1df9d88b0c",
   "metadata": {},
   "source": [
    "# RMS plot params"
   ]
  },
  {
   "cell_type": "code",
   "execution_count": null,
   "id": "8d51ee7d-27ce-437c-aad3-80eb0790b694",
   "metadata": {
    "tags": []
   },
   "outputs": [],
   "source": [
    "# Files locations\n",
    "p.fname_FOFB_off = ''\n",
    "p.fname_FAcq_off = ''\n",
    "p.fname_FOFB_on = '../../../fofbrate_2024-07-22_09h46m15s.pickle'\n",
    "p.fname_FAcq_on = ''\n",
    "\n",
    "# Limits of integration for the slower and faster acquisition rates\n",
    "p.FOFB_off_freq_high = 1000\n",
    "p.FOFB_on_freq_high = 1000\n",
    "p.FAcq_off_freq_low = 0.1\n",
    "p.FAcq_on_freq_low = 0.1\n",
    "\n",
    "# See the class FOFBPlots to adjust plot params"
   ]
  },
  {
   "cell_type": "code",
   "execution_count": null,
   "id": "9d7aaec4-4e21-4162-86be-1f69464c6368",
   "metadata": {},
   "outputs": [],
   "source": [
    "# For access to the list of parameters that could be changed, please check the FOFBPlots() class at fofb_exp_plots.py\n",
    "# Plot params\n",
    "p.legend_font_size = 10.7\n",
    "p.plot_rms_data()"
   ]
  },
  {
   "cell_type": "markdown",
   "id": "dd774ffd-c9d8-4891-8b71-2f71f488fa45",
   "metadata": {},
   "source": [
    "# PSD plot params"
   ]
  },
  {
   "cell_type": "code",
   "execution_count": null,
   "id": "ad2e5d57-2877-4cbc-b5a7-e38544f7bbda",
   "metadata": {
    "tags": []
   },
   "outputs": [],
   "source": [
    "# Files locations\n",
    "p.fname_FOFB_psd1 = 'bpm_data_rate_facq_sofbstate_on_fofbstate_on_gain_0p052_rfline_off_llrf_ki_8000_kp_155_after_solution.pickle'\n",
    "p.fname_FOFB_psd2 = 'bpm_data_rate_facq_sofbstate_off_fofbstate_off_gain_0p052_rfline_off_llrf_ki_8000_kp_155_after_solution.pickle'"
   ]
  },
  {
   "cell_type": "code",
   "execution_count": null,
   "id": "b21db7b5-e8b8-4e99-9a26-c6c9000c4ef9",
   "metadata": {},
   "outputs": [],
   "source": [
    "# Plot params\n",
    "p.label_FOFB_psd1 = 'FOFB ON'\n",
    "p.label_FOFB_psd2 = 'FOFB OFF'\n",
    "p.psd_ylabel_font_size = 12\n",
    "p.psd_xlabel_font_size = 12\n",
    "p.psd_ylim_horizontal = [1e-7, 150]\n",
    "p.psd_subtitle_fontsize = 15\n",
    "p.bpm_psd = 1\n",
    "p.get_psd_plot()"
   ]
  }
 ],
 "metadata": {
  "kernelspec": {
   "display_name": "Python 3 (ipykernel)",
   "language": "python",
   "name": "python3"
  },
  "language_info": {
   "codemirror_mode": {
    "name": "ipython",
    "version": 3
   },
   "file_extension": ".py",
   "mimetype": "text/x-python",
   "name": "python",
   "nbconvert_exporter": "python",
   "pygments_lexer": "ipython3",
   "version": "3.10.12"
  }
 },
 "nbformat": 4,
 "nbformat_minor": 5
}
