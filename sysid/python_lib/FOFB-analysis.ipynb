{
 "cells": [
  {
   "cell_type": "markdown",
   "id": "1929df86",
   "metadata": {},
   "source": [
    "# Common functionality"
   ]
  },
  {
   "cell_type": "code",
   "execution_count": null,
   "id": "e9e2a9cd",
   "metadata": {
    "ExecuteTime": {
     "end_time": "2023-09-19T15:53:25.435740Z",
     "start_time": "2023-09-19T15:53:24.026208Z"
    },
    "init_cell": true,
    "tags": []
   },
   "outputs": [],
   "source": [
    "from time import sleep\n",
    "import apsuite.commisslib.meas_fofb_sysid as fofbsysid\n",
    "print(fofbsysid.__file__)\n",
    "from multiprocessing import Pool, set_start_method\n",
    "from resource import getrusage, RUSAGE_SELF\n",
    "\n",
    "from matplotlib import pyplot as plt\n",
    "import matplotlib.ticker as ticker\n",
    "import matplotlib\n",
    "import numpy as np\n",
    "import h5py\n",
    "\n",
    "from apsuite.commisslib.meas_fofb_sysid import FOFBSysIdAcq\n",
    "from siriuspy.devices import EVG, InjCtrl, SOFB, Trigger\n",
    "%matplotlib widget"
   ]
  },
  {
   "cell_type": "code",
   "execution_count": null,
   "id": "41762f83",
   "metadata": {
    "ExecuteTime": {
     "end_time": "2023-09-19T11:30:53.194129Z",
     "start_time": "2023-09-19T11:30:53.191301Z"
    },
    "tags": []
   },
   "outputs": [],
   "source": [
    "fpath = '/ibira/lnls/labs/swc/MachineStudies/teste/2024-03-25/bpm-lfsr9-sd4-rfprofile/'"
   ]
  },
  {
   "cell_type": "code",
   "execution_count": null,
   "id": "cd171833",
   "metadata": {
    "tags": []
   },
   "outputs": [],
   "source": [
    "acq = FOFBSysIdAcq()"
   ]
  },
  {
   "cell_type": "markdown",
   "id": "9c00c65a",
   "metadata": {},
   "source": [
    "# Data analysis"
   ]
  },
  {
   "cell_type": "code",
   "execution_count": null,
   "id": "bd3e4e74",
   "metadata": {
    "tags": []
   },
   "outputs": [],
   "source": [
    "fft = lambda x: np.abs(np.fft.rfft(x))\n",
    "\n",
    "def init_acq_from_data(acq, data):\n",
    "    # parameters to generate singular mode levels\n",
    "    params = data['params']\n",
    "    acq.params.svd_levels_regularize_matrix = True\n",
    "    acq.params.svd_levels_reg_sinval_min = data['params']['svd_levels_reg_sinval_min']\n",
    "    acq.params.svd_levels_reg_tikhonov_const = data['params']['svd_levels_reg_tikhonov_const']\n",
    "    acq.params.svd_levels_bpmsx_enbllist = data['params']['svd_levels_bpmsx_enbllist']\n",
    "    acq.params.svd_levels_bpmsy_enbllist = data['params']['svd_levels_bpmsy_enbllist']\n",
    "    acq.params.svd_levels_ch_enbllist = data['params']['svd_levels_ch_enbllist']\n",
    "    acq.params.svd_levels_cv_enbllist = data['params']['svd_levels_cv_enbllist']\n",
    "    acq.params.svd_levels_rf_enbllist = data['params']['svd_levels_rf_enbllist']\n",
    "    acq.params.svd_levels_respmat = data['params']['svd_levels_respmat']\n",
    "\n",
    "    acq.params.svd_levels_singmode_idx = data['params']['svd_levels_singmode_idx']"
   ]
  },
  {
   "cell_type": "markdown",
   "id": "08994777",
   "metadata": {},
   "source": [
    "## Plot all sensitivity functions at once"
   ]
  },
  {
   "cell_type": "code",
   "execution_count": null,
   "id": "440cb5dd",
   "metadata": {
    "tags": []
   },
   "outputs": [],
   "source": [
    "def get_mode_fft(file, acq=None):\n",
    "    \n",
    "    if acq is None:\n",
    "        acq = FOFBSysIdAcq()\n",
    "    \n",
    "    print(f'reading {file}...')\n",
    "    data = acq.load_data(file)\n",
    "    init_acq_from_data(acq, data)\n",
    "    \n",
    "    #================ INPUTS ================#\n",
    "    rf_acq = False\n",
    "    factor = 100_000\n",
    "    val = 1000\n",
    "    #========================================#\n",
    "    \n",
    "    if rf_acq:\n",
    "        prbs = np.array(data['data']['prbs_data'][0], dtype=float)\n",
    "        prbs[prbs == 0] = -1\n",
    "    \n",
    "        acq.params.svd_levels_singmode_idx  = 0\n",
    "        acq.params.prbs_corrs_to_get_data = np.ones(160, dtype=bool)\n",
    "        \n",
    "        rfprof = data['data']['fofb_respmat'][:,-1].copy()\n",
    "        rfprof /= np.linalg.norm(rfprof)\n",
    "        rfprof *= val * factor\n",
    "        rfprof_x = rfprof[:160]\n",
    "        rfprof_y = rfprof[160:]\n",
    "        \n",
    "        lvlsx = rfprof_x\n",
    "        lvlsy = rfprof_y\n",
    "    \n",
    "        u_n = np.hstack([lvlsx[acq.params.svd_levels_bpmsx_enbllist], lvlsy[acq.params.svd_levels_bpmsy_enbllist]])\n",
    "        u_n = np.array([u_n], dtype=float)\n",
    "        u_n /= factor\n",
    "        \n",
    "    else:\n",
    "        \n",
    "        prbs = np.array(data['data']['prbs_data'][0], dtype = float)\n",
    "        prbs[prbs == 0] = -1\n",
    "        \n",
    "        acq.params.svd_levels_singmode_idx = data['params']['svd_levels_singmode_idx']\n",
    "        lvlsx, lvlsy = acq.get_levels_bpms_from_svd(ampmax = acq.params.svd_levels_ampmax*factor, lvl = -val*factor)\n",
    "        u_n = np.hstack([lvlsx[acq.params.svd_levels_bpmsx_enbllist], lvlsy[acq.params.svd_levels_bpmsy_enbllist]])\n",
    "        u_n = np.array([u_n], dtype=float)\n",
    "        u_n /= factor\n",
    "\n",
    "    prbsu = np.array([prbs]).T @ u_n\n",
    "\n",
    "    orb = np.array(np.hstack([data['data']['orbx'], data['data']['orby']]), dtype=float)\n",
    "    orb -= np.mean(orb, axis=0)[None, :]\n",
    "    \n",
    "    prbsu -= np.mean(prbsu, axis=0)[None, :]\n",
    "\n",
    "    modes_orb = (orb @ u_n.T)[:,0]\n",
    "    modes_prbs = (prbsu @ u_n.T)[:,0]\n",
    "\n",
    "    lfsr = data['data']['prbs_lfsr_len'][0]\n",
    "    sd = data['data']['prbs_step_duration'][0]\n",
    "    p = (2**lfsr - 1) * sd\n",
    "\n",
    "    n = modes_orb.shape[0]\n",
    "    step = n // p\n",
    "\n",
    "    fft_orb = fft(modes_orb)\n",
    "    fft_prbs = fft(modes_prbs)\n",
    "    fs = data['data']['sampling_frequency']\n",
    "    freq = np.fft.rfftfreq(modes_orb.size, d=1/fs)\n",
    "\n",
    "    freq_p = freq[step::step]\n",
    "    fft_prbs_p = fft_prbs[step::step]\n",
    "    fft_orb_p = fft_orb[step::step]\n",
    "\n",
    "    return freq_p, fft_orb_p, fft_prbs_p\n",
    "\n",
    "def calc_sensitivity(freq, orb, prbs):\n",
    "    outside_notch = prbs > 0\n",
    "    return freq[outside_notch], orb[outside_notch]/prbs[outside_notch]"
   ]
  },
  {
   "cell_type": "code",
   "execution_count": null,
   "id": "ed08589f",
   "metadata": {
    "tags": []
   },
   "outputs": [],
   "source": [
    "# change processes to account for memory availability. each process takes about 3GB\n",
    "n_modes = 100\n",
    "paths = [fpath + f'{i}.h5' for i in range(n_modes)]\n",
    "%time sensitivities = Pool(processes=32).map(get_mode_fft, paths)"
   ]
  },
  {
   "cell_type": "code",
   "execution_count": null,
   "id": "8945cb64",
   "metadata": {
    "tags": []
   },
   "outputs": [],
   "source": [
    "valid_modes = 100"
   ]
  },
  {
   "cell_type": "code",
   "execution_count": null,
   "id": "5882e161",
   "metadata": {
    "tags": []
   },
   "outputs": [],
   "source": [
    "fig, ax = plt.subplots(1, figsize=(12,8))\n",
    "for i, (f, orb, prbs) in enumerate(sensitivities[:valid_modes]):\n",
    "    f, s = calc_sensitivity(f, orb, prbs)\n",
    "    interest = np.logical_and(f > 1e3, f<10e3)\n",
    "    interest = f < 10e3\n",
    "    ax.semilogx(f[interest], 20*np.log10(np.abs(s[interest])), label=f'{i}')\n",
    "matplotlib.rcParams.update({'font.size': 16})\n",
    "ax.set_title(f'SIRIUS FOFB Disturbance Rejection - {valid_modes} modes')\n",
    "ax.set_ylabel('dB')\n",
    "ax.set_xlabel('Hz')+\n",
    "ax.yaxis.set_major_locator(ticker.MultipleLocator(5))\n",
    "ax.grid(which='both')\n",
    "\n",
    "fig.savefig('rfprofile_semLinhadeRF_ki30kp3.png', dpi=1200)"
   ]
  },
  {
   "cell_type": "code",
   "execution_count": null,
   "id": "ac89b76c",
   "metadata": {},
   "outputs": [],
   "source": [
    "fig, ax = plt.subplots(1, figsize=(12,8))\n",
    "for i, (f, orb, prbs) in enumerate(sensitivities[:valid_modes]):\n",
    "    f, s = calc_sensitivity(f, orb, prbs)\n",
    "    interest = np.logical_and(f > 1e3, f<10e3)\n",
    "    ax.semilogx(f[interest], 20*np.log10(np.abs(s[interest])), label=f'{i}')\n",
    "\n",
    "matplotlib.rcParams.update({'font.size': 16})\n",
    "ax.set_title(f'SIRIUS FOFB Disturbance Rejection - {valid} modes')\n",
    "ax.set_ylabel('dB')\n",
    "ax.set_xlabel('Hz')\n",
    "ax.yaxis.set_major_locator(ticker.MultipleLocator(5))\n",
    "ax.grid(which='both')\n",
    "\n",
    "fig.savefig('gain0p1901kHz.png', dpi=1200)"
   ]
  },
  {
   "cell_type": "markdown",
   "id": "9607469c",
   "metadata": {},
   "source": [
    "## Plot data from two acquisitions at once"
   ]
  },
  {
   "cell_type": "code",
   "execution_count": null,
   "id": "d76485ef",
   "metadata": {},
   "outputs": [],
   "source": [
    "freq_p_old = freq_p\n",
    "fft_prbs_p_old = fft_prbs_p\n",
    "fft_orb_p_old = fft_orb_p"
   ]
  },
  {
   "cell_type": "code",
   "execution_count": null,
   "id": "854ad0a8",
   "metadata": {},
   "outputs": [],
   "source": [
    "fig, (ax, ay) = plt.subplots(2)\n",
    "ax.loglog(freq_p, fft_prbs_p)\n",
    "ax.loglog(freq_p, fft_orb_p)\n",
    "ax.loglog(freq_p_old, fft_prbs_p_old)\n",
    "ax.loglog(freq_p_old, fft_orb_p_old)\n",
    "\n",
    "ay.loglog(freq_p, (fft_orb_p/fft_prbs_p), '--')\n",
    "ay.loglog(freq_p_old, (fft_orb_p_old/fft_prbs_p_old), '--', alpha=.5)\n",
    "ay.grid()"
   ]
  },
  {
   "cell_type": "code",
   "execution_count": null,
   "id": "d1a7b010",
   "metadata": {},
   "outputs": [],
   "source": [
    "fft_orb_p/fft_prbs_p"
   ]
  },
  {
   "cell_type": "code",
   "execution_count": null,
   "id": "1890c6ed",
   "metadata": {},
   "outputs": [],
   "source": [
    "data = acq.get_data()"
   ]
  },
  {
   "cell_type": "code",
   "execution_count": null,
   "id": "ac0155fe",
   "metadata": {},
   "outputs": [],
   "source": [
    "[all(data['prbs_data'][0] == data['prbs_data'][i]) for i in range(20)]"
   ]
  }
 ],
 "metadata": {
  "hide_input": false,
  "kernelspec": {
   "display_name": "Python 3",
   "language": "python",
   "name": "python3"
  },
  "language_info": {
   "codemirror_mode": {
    "name": "ipython",
    "version": 3
   },
   "file_extension": ".py",
   "mimetype": "text/x-python",
   "name": "python",
   "nbconvert_exporter": "python",
   "pygments_lexer": "ipython3",
   "version": "3.8.10"
  },
  "latex_envs": {
   "LaTeX_envs_menu_present": true,
   "autoclose": false,
   "autocomplete": true,
   "bibliofile": "biblio.bib",
   "cite_by": "apalike",
   "current_citInitial": 1,
   "eqLabelWithNumbers": true,
   "eqNumInitial": 1,
   "hotkeys": {
    "equation": "Ctrl-E",
    "itemize": "Ctrl-I"
   },
   "labels_anchors": false,
   "latex_user_defs": false,
   "report_style_numbering": false,
   "user_envs_cfg": false
  }
 },
 "nbformat": 4,
 "nbformat_minor": 5
}
