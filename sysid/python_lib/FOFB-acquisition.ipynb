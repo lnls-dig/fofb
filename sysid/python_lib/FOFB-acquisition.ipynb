{
 "cells": [
  {
   "cell_type": "markdown",
   "id": "8e2cdf48",
   "metadata": {},
   "source": [
    "# Common functionality"
   ]
  },
  {
   "cell_type": "code",
   "execution_count": null,
   "id": "09899de7",
   "metadata": {
    "ExecuteTime": {
     "end_time": "2023-09-19T15:53:25.435740Z",
     "start_time": "2023-09-19T15:53:24.026208Z"
    },
    "init_cell": true
   },
   "outputs": [],
   "source": [
    "from time import sleep\n",
    "import apsuite.commisslib.meas_fofb_sysid as fofbsysid\n",
    "print(fofbsysid.__file__)\n",
    "from multiprocessing import Pool, set_start_method\n",
    "from resource import getrusage, RUSAGE_SELF\n",
    "\n",
    "from matplotlib import pyplot as plt\n",
    "import matplotlib.ticker as ticker\n",
    "import matplotlib\n",
    "import numpy as np\n",
    "import h5py\n",
    "from os import makedirs\n",
    "\n",
    "from apsuite.commisslib.meas_fofb_sysid import FOFBSysIdAcq\n",
    "from siriuspy.devices import EVG, InjCtrl, SOFB, Trigger, HLFOFB\n",
    "\n",
    "fpath = './'"
   ]
  },
  {
   "cell_type": "code",
   "execution_count": null,
   "id": "20d858de",
   "metadata": {},
   "outputs": [],
   "source": [
    "hl_fofb = HLFOFB()\n",
    "psconfigmat = hl_fofb.psconfigmat\n",
    "psconfigmat = np.reshape(psconfigmat, (160, -1))"
   ]
  },
  {
   "cell_type": "markdown",
   "id": "fef96527",
   "metadata": {
    "tags": []
   },
   "source": [
    "# PRBS Acquisitions"
   ]
  },
  {
   "cell_type": "code",
   "execution_count": null,
   "id": "8efe8c2f",
   "metadata": {
    "ExecuteTime": {
     "end_time": "2023-09-19T15:53:29.551409Z",
     "start_time": "2023-09-19T15:53:25.438049Z"
    },
    "init_cell": true
   },
   "outputs": [],
   "source": [
    "acq = FOFBSysIdAcq()\n",
    "sofb = SOFB(SOFB.DEVICES.SI)\n",
    "injctrl = InjCtrl()\n",
    "trigs = [Trigger('BO-Glob:TI-Mags-Fams'), Trigger('BO-Glob:TI-Mags-Corrs')]\n",
    "\n",
    "# instantiate PVs so they are already connected when we try to use them\n",
    "injctrl['AccumState-Sel']\n",
    "injctrl['AccumState-Sts']"
   ]
  },
  {
   "cell_type": "code",
   "execution_count": null,
   "id": "4ad42d11",
   "metadata": {
    "ExecuteTime": {
     "end_time": "2023-09-19T11:41:17.434564Z",
     "start_time": "2023-09-19T11:41:17.427982Z"
    }
   },
   "outputs": [],
   "source": [
    "def init_acq(acq):\n",
    "    # parameters to generate singular mode levels\n",
    "    acq.params.svd_levels_regularize_matrix = True\n",
    "    acq.params.svd_levels_reg_sinval_min = acq.devices['fofb'].singval_min\n",
    "    acq.params.svd_levels_reg_tikhonov_const = acq.devices['fofb'].tikhonov_reg_const\n",
    "    acq.params.svd_levels_bpmsx_enbllist = acq.devices['fofb'].bpmxenbl\n",
    "    acq.params.svd_levels_bpmsy_enbllist = acq.devices['fofb'].bpmyenbl\n",
    "    acq.params.svd_levels_ch_enbllist = acq.devices['fofb'].chenbl\n",
    "    acq.params.svd_levels_cv_enbllist = acq.devices['fofb'].cvenbl\n",
    "    acq.params.svd_levels_rf_enbllist = acq.devices['fofb'].rfenbl\n",
    "    acq.params.svd_levels_respmat = acq.devices['fofb'].respmat\n",
    "\n",
    "    acq.params.svd_levels_singmode_idx = 0"
   ]
  },
  {
   "cell_type": "code",
   "execution_count": null,
   "id": "eeeace65",
   "metadata": {},
   "outputs": [],
   "source": [
    "init_acq(acq)"
   ]
  },
  {
   "cell_type": "code",
   "execution_count": null,
   "id": "a483a263",
   "metadata": {},
   "outputs": [],
   "source": [
    "injctrl.injmode = 2\n",
    "injctrl.target_current = 200"
   ]
  },
  {
   "cell_type": "markdown",
   "id": "ac39c57a",
   "metadata": {},
   "source": [
    "## PRBS function definitions"
   ]
  },
  {
   "cell_type": "code",
   "execution_count": null,
   "id": "7806a2fb",
   "metadata": {},
   "outputs": [],
   "source": [
    "bpm_file_path = '/home/erico.rolim/ibira/lnls/labs/swc/MachineStudies/FOFBSysId/'\n",
    "\n",
    "with open(bpm_file_path + 'relation_corrector_to_bpm_max_response.txt', 'r') as f:\n",
    "    txt = f.readlines()\n",
    "\n",
    "corrs = [l.split()[0] for l in txt]\n",
    "bpms = [l.split('\\n')[0].split()[1] for l in txt]\n",
    "\n",
    "corr2bpm = {c: b for c, b in zip(corrs, bpms)}"
   ]
  },
  {
   "cell_type": "code",
   "execution_count": null,
   "id": "0b352b66",
   "metadata": {
    "ExecuteTime": {
     "end_time": "2023-09-19T11:41:39.598126Z",
     "start_time": "2023-09-19T11:41:39.588628Z"
    }
   },
   "outputs": [],
   "source": [
    "def prepare_for_acq(rfenbl, loopgainh, loopgainv):\n",
    "    # disable BO magnets triggers\n",
    "    for trig in trigs:\n",
    "        trig.state = 0\n",
    "\n",
    "    # change fofb matrix enable list and gains\n",
    "    ## open loop\n",
    "    acq.devices['fofb'].cmd_turn_off_loop_state()\n",
    "\n",
    "    ## reset correctors current and acc\n",
    "    acq.devices['fofb'].cmd_corr_set_current_zero()\n",
    "\n",
    "    ## set enbl list\n",
    "    acq.devices['fofb'].rfenbl = rfenbl\n",
    "    acq.params.svd_levels_rf_enbllist = acq.devices['fofb'].rfenbl\n",
    "\n",
    "    ## set gains\n",
    "    acq.devices['fofb'].loop_gain_h = loopgainh\n",
    "    acq.devices['fofb'].loop_gain_v = loopgainv\n",
    "\n",
    "    ## close loop again\n",
    "    acq.devices['fofb'].cmd_turn_on_loop_state()\n",
    "\n",
    "    # open sofb loop\n",
    "    sofb.cmd_turn_off_autocorr()\n",
    "\n",
    "def current_acq(acq, i, corr, val):\n",
    "    bpm = corr2bpm[corr]\n",
    "    corridx = acq.devices['famsysid'].psnames.index(corr)\n",
    "    bpmidx = acq.devices['famsysid'].bpmnames.index(bpm)\n",
    "\n",
    "    acq.params.prbs_bpms_to_get_data = np.zeros(160, dtype=bool)\n",
    "    acq.params.prbs_corrs_to_get_data = np.zeros(160, dtype=bool)\n",
    "    acq.params.prbs_corrs_to_get_data[corridx] = True\n",
    "    if False:\n",
    "        acq.params.prbs_bpms_to_get_data[bpmidx] = True\n",
    "    acq.params.prbs_bpms_to_get_data[bpmidx] = acq.params.svd_levels_bpmsx_enbllist\n",
    "\n",
    "    if 'C3' in corr:\n",
    "        val /= 2\n",
    "\n",
    "    gain = psconfigmat[corridx, 2]  # selecting the cumulative gain (3rd column) for each corrector (row)\n",
    "    val = val * gain\n",
    "\n",
    "    lvl0, lvl1 = acq.get_levels_corrs_indiv_exc(corrname=corr, lvl0=-val)\n",
    "\n",
    "    acq.params.prbs_fofbacc_enbl = True\n",
    "    acq.params.prbs_fofbacc_lvl0 = lvl0\n",
    "    acq.params.prbs_fofbacc_lvl1 = lvl1\n",
    "    acq.prepare_fofbacc_prbs()\n",
    "\n",
    "    wait_time = 0.5\n",
    "    rv = acq.acquire_data(wait_time)\n",
    "    acq.data['excitation_info'] = {'corr': corr, 'bpm': bpmidx}\n",
    "    return rv\n",
    "\n",
    "def bpm_acq(acq, i, mode, val):\n",
    "\n",
    "    if np.all(acq.params.svd_levels_bpmsx_enbllist == acq.params.svd_levels_bpmsy_enbllist):\n",
    "        acq.params.prbs_bpms_to_get_data = acq.params.svd_levels_bpmsx_enbllist\n",
    "    else:\n",
    "        print('Enabled BPMs x and y lists are different!!!')\n",
    "\n",
    "    acq.params.prbs_corrs_to_get_data = np.ones(160, dtype=bool)\n",
    "    acq.params.prbs_bpmpos_enbl = True\n",
    "    acq.params.svd_levels_singmode_idx = mode\n",
    "\n",
    "    lvlsx, lvlsy = acq.get_levels_bpms_from_svd(ampmax = acq.params.svd_levels_ampmax, lvl0 = -val)\n",
    "    lvlsx, lvlsy = np.asarray(lvlsx, dtype=int), np.asarray(lvlsy, dtype=int)\n",
    "    acq.params.prbs_bpmposx_lvl0 = lvlsx\n",
    "    acq.params.prbs_bpmposy_lvl0 = lvlsy\n",
    "    acq.prepare_bpms_prbs()\n",
    "\n",
    "    wait_time = 0.5\n",
    "    rv = acq.acquire_data(wait_time)\n",
    "    acq.data['excitation_info'] = {'mode': mode}\n",
    "    return rv\n",
    "\n",
    "def bpm_acq_rfprofile(acq, i, dev, val):\n",
    "\n",
    "    if np.all(acq.params.svd_levels_bpmsx_enbllist == acq.params.svd_levels_bpmsy_enbllist):\n",
    "        acq.params.prbs_bpms_to_get_data = acq.params.svd_levels_bpmsx_enbllist\n",
    "    else:\n",
    "        print('Enabled BPMs x and y lists are different!!!')\n",
    "\n",
    "    acq.params.prbs_corrs_to_get_data = np.ones(160, dtype=bool)\n",
    "\n",
    "    respmat = acq.devices['fofb'].respmat\n",
    "    rfprof = respmat[:,-1].copy()\n",
    "    rfprof /= np.linalg.norm(rfprof)\n",
    "    rfprof *= val\n",
    "    rfprof_x = np.array(rfprof[:160], dtype=int)\n",
    "    rfprof_y = np.array(rfprof[160:], dtype=int)\n",
    "\n",
    "    acq.params.prbs_bpmpos_enbl = True\n",
    "    acq.params.svd_levels_singmode_idx = 0\n",
    "    acq.params.prbs_bpmposx_lvl0 = -1 * rfprof_x\n",
    "    acq.params.prbs_bpmposy_lvl0 = -1 * rfprof_y\n",
    "    acq.prepare_bpms_prbs()\n",
    "\n",
    "    rv = acq.acquire_data()\n",
    "    acq.data['excitation_info'] = {'mode': 'rf profile'}\n",
    "    return rv\n",
    "\n",
    "\n",
    "def disable_prbs(trigger_cmd=False):\n",
    "    print('DISABLING PRBS')\n",
    "    # disable prbs\n",
    "    acq.params.prbs_fofbacc_enbl = False\n",
    "    acq.params.prbs_bpmpos_enbl = False\n",
    "    zeroed = np.zeros(160)\n",
    "    acq.params.prbs_fofbacc_lvl0 = zeroed\n",
    "    acq.params.prbs_fofbacc_lvl1 = zeroed\n",
    "    acq.params.prbs_bpmposx_lvl0 = zeroed\n",
    "    acq.params.prbs_bpmposx_lvl1 = zeroed\n",
    "    acq.params.prbs_bpmposy_lvl0 = zeroed\n",
    "    acq.params.prbs_bpmposy_lvl1 = zeroed\n",
    "    acq.prepare_fofbacc_prbs()\n",
    "    acq.prepare_bpms_prbs()\n",
    "\n",
    "    if trigger_cmd:\n",
    "        acq.trigger_timing_signal()\n",
    "\n",
    "    # enable BO magnets triggres\n",
    "    for trig in trigs:\n",
    "        trig.state = 1\n",
    "\n",
    "    # close sofb loop\n",
    "    sofb.cmd_turn_on_autocorr()"
   ]
  },
  {
   "cell_type": "markdown",
   "id": "6aef2087",
   "metadata": {},
   "source": [
    "## PRBS parameter configurations"
   ]
  },
  {
   "cell_type": "code",
   "execution_count": null,
   "id": "2179c329",
   "metadata": {
    "ExecuteTime": {
     "end_time": "2023-09-19T11:41:42.457626Z",
     "start_time": "2023-09-19T11:41:42.451498Z"
    }
   },
   "outputs": [],
   "source": [
    "psnames = acq.devices['famsysid'].psnames\n",
    "psnames = psnames[1:79] + psnames[81:-1]\n",
    "\n",
    "modes = range(157)\n",
    "acq.params.svd_levels_ampmax = 5000\n",
    "\n",
    "current_prbs = {'name': 'current', 'lfsr': 7, 'sd': 3, 'taps': 1, 'val': 0.02, 'function': current_acq, 'items': psnames, 'rfenbl': 0, 'loopgainh': 0.0, 'loopgainv': 0.0}\n",
    "voltage_prbs = {'name': 'voltage', 'lfsr': 14, 'sd': 1, 'taps': 0, 'val': 1.107, 'function': current_acq, 'items': psnames}\n",
    "#====== Varying gain ======#\n",
    "bpm_prbs_rfdsbld_g1 = {'name': 'bpm-lfsr9-sd4-rfdsbld-0p052', 'lfsr': 9, 'sd': 4, 'taps': 0, 'val': 100, 'function': bpm_acq, 'items': modes, 'rfenbl': 0, 'loopgainh': 0.120, 'loopgainv': 0.166}\n",
    "bpm_prbs_rfenbld_g1 = {'name': 'bpm-lfsr9-sd4-rfenbld-0p052', 'lfsr': 9, 'sd': 4, 'taps': 0, 'val': 100, 'function': bpm_acq, 'items': modes, 'rfenbl': 1, 'loopgainh': 0.120, 'loopgainv': 0.166}\n",
    "bpm_prbs_rfdsbld_g2 = {'name': 'bpm-lfsr9-sd4-rfdsbld-0p100', 'lfsr': 9, 'sd': 4, 'taps': 0, 'val': 100, 'function': bpm_acq, 'items': modes, 'rfenbl': 0, 'loopgainh': 0.120, 'loopgainv': 0.166}\n",
    "bpm_prbs_rfenbld_g2 = {'name': 'bpm-lfsr9-sd4-rfenbld-0p100', 'lfsr': 9, 'sd': 4, 'taps': 0, 'val': 100, 'function': bpm_acq, 'items': modes, 'rfenbl': 1, 'loopgainh': 0.120, 'loopgainv': 0.166}\n",
    "bpm_prbs_rfdsbld_g3 = {'name': 'bpm-lfsr9-sd4-rfdsbld-0p150', 'lfsr': 9, 'sd': 4, 'taps': 0, 'val': 100, 'function': bpm_acq, 'items': modes, 'rfenbl': 0, 'loopgainh': 0.120, 'loopgainv': 0.166}\n",
    "bpm_prbs_rfenbld_g3 = {'name': 'bpm-lfsr9-sd4-rfenbld-0p150', 'lfsr': 9, 'sd': 4, 'taps': 0, 'val': 100, 'function': bpm_acq, 'items': modes, 'rfenbl': 1, 'loopgainh': 0.120, 'loopgainv': 0.166}\n",
    "#====== RF profile ======#\n",
    "bpm_rfprof_prbs = {'name': 'bpm-lfsr9-sd4-rfprofile', 'lfsr': 9, 'sd': 4, 'taps': 0, 'val': 1000, 'function': bpm_acq_rfprofile, 'items': ['rfprofile', ], 'rfenbl': 0, 'loopgainh': 0.120, 'loopgainv': 0.166}"
   ]
  },
  {
   "cell_type": "markdown",
   "id": "745b9147",
   "metadata": {},
   "source": [
    "## Run PRBS acquisitions"
   ]
  },
  {
   "cell_type": "code",
   "execution_count": null,
   "id": "deb67b60",
   "metadata": {
    "ExecuteTime": {
     "end_time": "2023-09-19T11:50:33.053694Z",
     "start_time": "2023-09-19T11:42:02.387492Z"
    }
   },
   "outputs": [],
   "source": [
    "acq.params.acq_timeout = 120\n",
    "acq.params.acq_nrpoints_before = 1000\n",
    "acq.params.acq_channel = 3  # sysid_applied\n",
    "acq.params.acq_repeat = False\n",
    "acq.params.acq_external = True\n",
    "\n",
    "npoints = 50_000\n",
    "exps = [bpm_prbs_rfdsbld_g1, bpm_prbs_rfenbld_g1, bpm_prbs_rfdsbld_g2, bpm_prbs_rfenbld_g2, bpm_prbs_rfdsbld_g3, bpm_prbs_rfenbld_g3]\n",
    "\n",
    "for prbs in exps:\n",
    "    print(prbs['name'])\n",
    "    acq.params.prbs_lfsr_length = prbs['lfsr']\n",
    "    acq.params.prbs_step_duration = prbs['sd']\n",
    "    acq.params.prbs_mov_avg_taps = prbs['taps']\n",
    "    acq.prepare_prbs()\n",
    "    acq.sync_prbs()\n",
    "\n",
    "    period = (2**prbs['lfsr'] - 1) * prbs['sd']\n",
    "    acq.params.acq_nrpoints_after = np.floor(npoints / period) * period\n",
    "    print(f'nrpoints_after: {acq.params.acq_nrpoints_after}')\n",
    "\n",
    "    print(acq.devices['famsysid'].prbs_step_duration)\n",
    "    print(acq.devices['famsysid'].prbs_lfsr_len)\n",
    "\n",
    "    makedirs(fpath + prbs['name'], exist_ok = True)\n",
    "\n",
    "    prepare_for_acq(prbs['rfenbl'], prbs['loopgainh'], prbs['loopgainv'])\n",
    "\n",
    "    inject = True\n",
    "    for i, dev in enumerate(prbs['items']):\n",
    "        print(f'{prbs[\"name\"]}: {i+1:03d}/{len(prbs[\"items\"]):03d} -> {dev}')\n",
    "        do_fn = False\n",
    "\n",
    "        disable_prbs(trigger_cmd=True)\n",
    "\n",
    "        while not do_fn:\n",
    "            do_fn = prbs['function'](acq, i, dev, prbs['val'])\n",
    "        #break\n",
    "\n",
    "        print('    saving data...')\n",
    "        acq.fname = fpath + prbs['name'] + '/' + str(dev) + '.h5'\n",
    "        acq.save_data(acq.fname)\n",
    "\n",
    "        if inject and i % 10 == 0:\n",
    "            print('    injecting...')\n",
    "            for trig in trigs:\n",
    "                trig.state = 1\n",
    "            sleep(2.5)\n",
    "            injctrl['AccumState-Sel'] = 1\n",
    "            sleep(1)\n",
    "            count = 0\n",
    "            while injctrl['AccumState-Sel']:\n",
    "                sleep(.1)\n",
    "                count += 1\n",
    "                if count > 1200:\n",
    "                    print('injection BROKEN, skipping...')\n",
    "                    injctrl['AccumState-Sel'] = 0\n",
    "                    inject = False\n",
    "                    break\n",
    "            for trig in trigs:\n",
    "                trig.state = 0\n",
    "        print('    downloading FOFB...')\n",
    "        sofb.cmd_turn_on_autocorr()\n",
    "        sleep(5)\n",
    "        sofb.cmd_turn_off_autocorr()\n",
    "    else:\n",
    "        disable_prbs()"
   ]
  }
 ],
 "metadata": {
  "hide_input": false,
  "kernelspec": {
   "display_name": "Python 3",
   "language": "python",
   "name": "python3"
  },
  "language_info": {
   "codemirror_mode": {
    "name": "ipython",
    "version": 3
   },
   "file_extension": ".py",
   "mimetype": "text/x-python",
   "name": "python",
   "nbconvert_exporter": "python",
   "pygments_lexer": "ipython3",
   "version": "3.8.10"
  },
  "latex_envs": {
   "LaTeX_envs_menu_present": true,
   "autoclose": false,
   "autocomplete": true,
   "bibliofile": "biblio.bib",
   "cite_by": "apalike",
   "current_citInitial": 1,
   "eqLabelWithNumbers": true,
   "eqNumInitial": 1,
   "hotkeys": {
    "equation": "Ctrl-E",
    "itemize": "Ctrl-I"
   },
   "labels_anchors": false,
   "latex_user_defs": false,
   "report_style_numbering": false,
   "user_envs_cfg": false
  }
 },
 "nbformat": 4,
 "nbformat_minor": 5
}
